{
  "nbformat": 4,
  "nbformat_minor": 0,
  "metadata": {
    "colab": {
      "name": "Name Entity recognition (Enhanced LSTM with Character Embeddings) .ipynb",
      "version": "0.3.2",
      "provenance": [],
      "collapsed_sections": []
    },
    "kernelspec": {
      "name": "python3",
      "display_name": "Python 3"
    }
  },
  "cells": [
    {
      "cell_type": "code",
      "metadata": {
        "id": "VlSMNvvK-OfS",
        "colab_type": "code",
        "colab": {}
      },
      "source": [
        "#Enhancing LSTMs With Character Embeddings For Named Entity Recognition\n",
        "#preparing of Dataset\n",
        "import pandas as pd\n",
        "import numpy as np\n",
        "data=pd.read_csv(\"ner_dataset.csv\",encoding=\"latin1\")"
      ],
      "execution_count": 0,
      "outputs": []
    },
    {
      "cell_type": "code",
      "metadata": {
        "id": "Lokplhf_Jb4x",
        "colab_type": "code",
        "colab": {}
      },
      "source": [
        "#fill the null values with ffill: propagate last valid observation forward to next valid backfill\n",
        "data = data.fillna(method=\"ffill\")"
      ],
      "execution_count": 0,
      "outputs": []
    },
    {
      "cell_type": "code",
      "metadata": {
        "id": "dbXgCOAZ6LAj",
        "colab_type": "code",
        "colab": {
          "base_uri": "https://localhost:8080/",
          "height": 101
        },
        "outputId": "8c4f3fb6-e003-4284-96ad-729769e9aaf0"
      },
      "source": [
        "#ner_dataset contain three columns \"Word\",\"POS\",\"Tag\"\n",
        "data.dtypes"
      ],
      "execution_count": 87,
      "outputs": [
        {
          "output_type": "execute_result",
          "data": {
            "text/plain": [
              "Sentence #    object\n",
              "Word          object\n",
              "POS           object\n",
              "Tag           object\n",
              "dtype: object"
            ]
          },
          "metadata": {
            "tags": []
          },
          "execution_count": 87
        }
      ]
    },
    {
      "cell_type": "code",
      "metadata": {
        "id": "88Fm0TKmJ_Ak",
        "colab_type": "code",
        "outputId": "0ff81b92-a876-41d6-f7a1-70c429f83e75",
        "colab": {
          "base_uri": "https://localhost:8080/",
          "height": 34
        }
      },
      "source": [
        "#define the the words's values in set and make a list ,count the lenght of words  \n",
        "words = list(set(data[\"Word\"].values))\n",
        "n_words = len(words); n_words"
      ],
      "execution_count": 88,
      "outputs": [
        {
          "output_type": "execute_result",
          "data": {
            "text/plain": [
              "35178"
            ]
          },
          "metadata": {
            "tags": []
          },
          "execution_count": 88
        }
      ]
    },
    {
      "cell_type": "code",
      "metadata": {
        "id": "oYsTEW9FKDWl",
        "colab_type": "code",
        "outputId": "1e7c06b7-aa11-4dd7-a08a-55e923c79730",
        "colab": {
          "base_uri": "https://localhost:8080/",
          "height": 34
        }
      },
      "source": [
        "#count the lenght of tag values in a given data set :ex-B-gep\n",
        "tags = list(set(data[\"Tag\"].values))\n",
        "n_tags = len(tags); n_tags"
      ],
      "execution_count": 89,
      "outputs": [
        {
          "output_type": "execute_result",
          "data": {
            "text/plain": [
              "17"
            ]
          },
          "metadata": {
            "tags": []
          },
          "execution_count": 89
        }
      ]
    },
    {
      "cell_type": "code",
      "metadata": {
        "id": "qItX7-lkKITk",
        "colab_type": "code",
        "colab": {}
      },
      "source": [
        "#So we have 47959 sentences containing 35178 different words with 17 different tags. \n",
        "#We use the SentenceGetter class from last post to retrieve sentences with their labels. \n",
        "class SentenceGetter(object):\n",
        "    \n",
        "    def __init__(self, data):\n",
        "        self.n_sent = 1\n",
        "        self.data = data\n",
        "        self.empty = False\n",
        "        agg_func = lambda s: [(w, p, t) for w, p, t in zip(s[\"Word\"].values.tolist(),\n",
        "                                                           s[\"POS\"].values.tolist(),\n",
        "                                                           s[\"Tag\"].values.tolist())]\n",
        "        self.grouped = self.data.groupby(\"Sentence #\").apply(agg_func)\n",
        "        self.sentences = [s for s in self.grouped]\n",
        "    \n",
        "    def get_next(self):\n",
        "        try:\n",
        "            s = self.grouped[\"Sentence: {}\".format(self.n_sent)]\n",
        "            self.n_sent += 1\n",
        "            return s\n",
        "        except:\n",
        "            return None"
      ],
      "execution_count": 0,
      "outputs": []
    },
    {
      "cell_type": "code",
      "metadata": {
        "id": "Xomy9-3UKpAk",
        "colab_type": "code",
        "colab": {}
      },
      "source": [
        "\n",
        "getter = SentenceGetter(data)"
      ],
      "execution_count": 0,
      "outputs": []
    },
    {
      "cell_type": "code",
      "metadata": {
        "id": "DlHQzWJgKrKy",
        "colab_type": "code",
        "colab": {}
      },
      "source": [
        "sent = getter.get_next()"
      ],
      "execution_count": 0,
      "outputs": []
    },
    {
      "cell_type": "code",
      "metadata": {
        "id": "v6SH8QTxKxd8",
        "colab_type": "code",
        "outputId": "7735de1e-593d-46d2-a465-d22a6ea3c630",
        "colab": {
          "base_uri": "https://localhost:8080/",
          "height": 54
        }
      },
      "source": [
        "print(sent)"
      ],
      "execution_count": 93,
      "outputs": [
        {
          "output_type": "stream",
          "text": [
            "[('Thousands', 'NNS', 'O'), ('of', 'IN', 'O'), ('demonstrators', 'NNS', 'O'), ('have', 'VBP', 'O'), ('marched', 'VBN', 'O'), ('through', 'IN', 'O'), ('London', 'NNP', 'B-geo'), ('to', 'TO', 'O'), ('protest', 'VB', 'O'), ('the', 'DT', 'O'), ('war', 'NN', 'O'), ('in', 'IN', 'O'), ('Iraq', 'NNP', 'B-geo'), ('and', 'CC', 'O'), ('demand', 'VB', 'O'), ('the', 'DT', 'O'), ('withdrawal', 'NN', 'O'), ('of', 'IN', 'O'), ('British', 'JJ', 'B-gpe'), ('troops', 'NNS', 'O'), ('from', 'IN', 'O'), ('that', 'DT', 'O'), ('country', 'NN', 'O'), ('.', '.', 'O')]\n"
          ],
          "name": "stdout"
        }
      ]
    },
    {
      "cell_type": "code",
      "metadata": {
        "id": "9e3eP-Y9K1av",
        "colab_type": "code",
        "colab": {}
      },
      "source": [
        "sentences = getter.sentences"
      ],
      "execution_count": 0,
      "outputs": []
    },
    {
      "cell_type": "code",
      "metadata": {
        "id": "Xxl_HyOzLBMK",
        "colab_type": "code",
        "outputId": "aaf98ff2-1a5d-4b85-fe80-e511389d73f8",
        "colab": {
          "base_uri": "https://localhost:8080/",
          "height": 1378
        }
      },
      "source": [
        "sentences[:3]"
      ],
      "execution_count": 95,
      "outputs": [
        {
          "output_type": "execute_result",
          "data": {
            "text/plain": [
              "[[('Thousands', 'NNS', 'O'),\n",
              "  ('of', 'IN', 'O'),\n",
              "  ('demonstrators', 'NNS', 'O'),\n",
              "  ('have', 'VBP', 'O'),\n",
              "  ('marched', 'VBN', 'O'),\n",
              "  ('through', 'IN', 'O'),\n",
              "  ('London', 'NNP', 'B-geo'),\n",
              "  ('to', 'TO', 'O'),\n",
              "  ('protest', 'VB', 'O'),\n",
              "  ('the', 'DT', 'O'),\n",
              "  ('war', 'NN', 'O'),\n",
              "  ('in', 'IN', 'O'),\n",
              "  ('Iraq', 'NNP', 'B-geo'),\n",
              "  ('and', 'CC', 'O'),\n",
              "  ('demand', 'VB', 'O'),\n",
              "  ('the', 'DT', 'O'),\n",
              "  ('withdrawal', 'NN', 'O'),\n",
              "  ('of', 'IN', 'O'),\n",
              "  ('British', 'JJ', 'B-gpe'),\n",
              "  ('troops', 'NNS', 'O'),\n",
              "  ('from', 'IN', 'O'),\n",
              "  ('that', 'DT', 'O'),\n",
              "  ('country', 'NN', 'O'),\n",
              "  ('.', '.', 'O')],\n",
              " [('Iranian', 'JJ', 'B-gpe'),\n",
              "  ('officials', 'NNS', 'O'),\n",
              "  ('say', 'VBP', 'O'),\n",
              "  ('they', 'PRP', 'O'),\n",
              "  ('expect', 'VBP', 'O'),\n",
              "  ('to', 'TO', 'O'),\n",
              "  ('get', 'VB', 'O'),\n",
              "  ('access', 'NN', 'O'),\n",
              "  ('to', 'TO', 'O'),\n",
              "  ('sealed', 'JJ', 'O'),\n",
              "  ('sensitive', 'JJ', 'O'),\n",
              "  ('parts', 'NNS', 'O'),\n",
              "  ('of', 'IN', 'O'),\n",
              "  ('the', 'DT', 'O'),\n",
              "  ('plant', 'NN', 'O'),\n",
              "  ('Wednesday', 'NNP', 'B-tim'),\n",
              "  (',', ',', 'O'),\n",
              "  ('after', 'IN', 'O'),\n",
              "  ('an', 'DT', 'O'),\n",
              "  ('IAEA', 'NNP', 'B-org'),\n",
              "  ('surveillance', 'NN', 'O'),\n",
              "  ('system', 'NN', 'O'),\n",
              "  ('begins', 'VBZ', 'O'),\n",
              "  ('functioning', 'VBG', 'O'),\n",
              "  ('.', '.', 'O')],\n",
              " [('Helicopter', 'NN', 'O'),\n",
              "  ('gunships', 'NNS', 'O'),\n",
              "  ('Saturday', 'NNP', 'B-tim'),\n",
              "  ('pounded', 'VBD', 'O'),\n",
              "  ('militant', 'JJ', 'O'),\n",
              "  ('hideouts', 'NNS', 'O'),\n",
              "  ('in', 'IN', 'O'),\n",
              "  ('the', 'DT', 'O'),\n",
              "  ('Orakzai', 'NNP', 'B-geo'),\n",
              "  ('tribal', 'JJ', 'O'),\n",
              "  ('region', 'NN', 'O'),\n",
              "  (',', ',', 'O'),\n",
              "  ('where', 'WRB', 'O'),\n",
              "  ('many', 'JJ', 'O'),\n",
              "  ('Taliban', 'NNP', 'B-org'),\n",
              "  ('militants', 'NNS', 'O'),\n",
              "  ('are', 'VBP', 'O'),\n",
              "  ('believed', 'VBN', 'O'),\n",
              "  ('to', 'TO', 'O'),\n",
              "  ('have', 'VB', 'O'),\n",
              "  ('fled', 'VBN', 'O'),\n",
              "  ('to', 'TO', 'O'),\n",
              "  ('avoid', 'VB', 'O'),\n",
              "  ('an', 'DT', 'O'),\n",
              "  ('earlier', 'JJR', 'O'),\n",
              "  ('military', 'JJ', 'O'),\n",
              "  ('offensive', 'NN', 'O'),\n",
              "  ('in', 'IN', 'O'),\n",
              "  ('nearby', 'JJ', 'O'),\n",
              "  ('South', 'NNP', 'B-geo'),\n",
              "  ('Waziristan', 'NNP', 'I-geo'),\n",
              "  ('.', '.', 'O')]]"
            ]
          },
          "metadata": {
            "tags": []
          },
          "execution_count": 95
        }
      ]
    },
    {
      "cell_type": "code",
      "metadata": {
        "id": "cilciQJBLEEK",
        "colab_type": "code",
        "colab": {}
      },
      "source": [
        "#Prepare the tokens\n",
        "max_len = 75\n",
        "max_len_char = 10"
      ],
      "execution_count": 0,
      "outputs": []
    },
    {
      "cell_type": "code",
      "metadata": {
        "id": "XhbP0KejLhnh",
        "colab_type": "code",
        "colab": {}
      },
      "source": [
        "word2idx = {w: i + 2 for i, w in enumerate(words)}\n",
        "word2idx[\"UNK\"] = 1\n",
        "word2idx[\"PAD\"] = 0\n",
        "idx2word = {i: w for w, i in word2idx.items()}\n",
        "tag2idx = {t: i + 1 for i, t in enumerate(tags)}\n",
        "tag2idx[\"PAD\"] = 0\n",
        "idx2tag = {i: w for w, i in tag2idx.items()}"
      ],
      "execution_count": 0,
      "outputs": []
    },
    {
      "cell_type": "code",
      "metadata": {
        "id": "1zL-v0hyTY5W",
        "colab_type": "code",
        "outputId": "41adcca7-1808-43b0-ec5a-1880fe77dd5e",
        "colab": {
          "base_uri": "https://localhost:8080/",
          "height": 50
        }
      },
      "source": [
        "print(word2idx[\"Obama\"])\n",
        "print(tag2idx[\"B-geo\"])"
      ],
      "execution_count": 98,
      "outputs": [
        {
          "output_type": "stream",
          "text": [
            "35002\n",
            "8\n"
          ],
          "name": "stdout"
        }
      ]
    },
    {
      "cell_type": "code",
      "metadata": {
        "id": "En0Ap81uTbtu",
        "colab_type": "code",
        "colab": {}
      },
      "source": [
        "from keras.preprocessing.sequence import pad_sequences\n",
        "X_word = [[word2idx[w[0]] for w in s] for s in sentences]"
      ],
      "execution_count": 0,
      "outputs": []
    },
    {
      "cell_type": "code",
      "metadata": {
        "id": "KdV0y3MyTuns",
        "colab_type": "code",
        "colab": {}
      },
      "source": [
        "X_word = pad_sequences(maxlen=max_len, sequences=X_word, value=word2idx[\"PAD\"], padding='post', truncating='post')"
      ],
      "execution_count": 0,
      "outputs": []
    },
    {
      "cell_type": "code",
      "metadata": {
        "id": "WM_QEJQPT0Gr",
        "colab_type": "code",
        "outputId": "7ac53472-588e-4de2-ef25-07c1a53731fc",
        "colab": {
          "base_uri": "https://localhost:8080/",
          "height": 34
        }
      },
      "source": [
        "chars = set([w_i for w in words for w_i in w])\n",
        "n_chars = len(chars)\n",
        "print(n_chars)"
      ],
      "execution_count": 101,
      "outputs": [
        {
          "output_type": "stream",
          "text": [
            "98\n"
          ],
          "name": "stdout"
        }
      ]
    },
    {
      "cell_type": "code",
      "metadata": {
        "id": "-4PuTAFdU5hG",
        "colab_type": "code",
        "colab": {}
      },
      "source": [
        "char2idx = {c: i + 2 for i, c in enumerate(chars)}\n",
        "\n",
        "char2idx[\"UNK\"] = 1\n",
        "char2idx[\"PAD\"] = 0\n",
        "  "
      ],
      "execution_count": 0,
      "outputs": []
    },
    {
      "cell_type": "code",
      "metadata": {
        "id": "bS3G4dd5VXKD",
        "colab_type": "code",
        "colab": {
          "base_uri": "https://localhost:8080/",
          "height": 50
        },
        "outputId": "83be7b67-b7fa-425c-8f37-529eb24dd3e5"
      },
      "source": [
        "X_char = []\n",
        "for sentence in sentences:\n",
        "    sent_seq = []\n",
        "    for i in range(max_len):#max_len=75\n",
        "        word_seq = []\n",
        "        for j in range(max_len_char):#max_len_char=10\n",
        "            try:\n",
        "                word_seq.append(char2idx.get(sentence[i][0][j]))\n",
        "            except:\n",
        "                word_seq.append(char2idx.get(\"PAD\"))\n",
        "        sent_seq.append(word_seq)\n",
        "    \n",
        "    X_char.append(np.array(sent_seq))\n",
        ")"
      ],
      "execution_count": 103,
      "outputs": [
        {
          "output_type": "stream",
          "text": [
            "[0, 0, 0, 0, 0, 0, 0, 0, 0, 0]\n",
            "[[50, 67, 60, 0, 0, 0, 0, 0, 0, 0], [32, 75, 87, 54, 60, 26, 0, 0, 0, 0]]\n"
          ],
          "name": "stdout"
        }
      ]
    },
    {
      "cell_type": "code",
      "metadata": {
        "id": "b18g55W1c1KV",
        "colab_type": "code",
        "colab": {}
      },
      "source": [
        "char2idx.get(sentences[2][0][1])"
      ],
      "execution_count": 0,
      "outputs": []
    },
    {
      "cell_type": "code",
      "metadata": {
        "id": "L5DurVzsc_WE",
        "colab_type": "code",
        "outputId": "99833b86-1360-4b2a-f032-ea7ea30d3aba",
        "colab": {
          "base_uri": "https://localhost:8080/",
          "height": 34
        }
      },
      "source": [
        "\n",
        "sentences[2][0][1]"
      ],
      "execution_count": 105,
      "outputs": [
        {
          "output_type": "execute_result",
          "data": {
            "text/plain": [
              "'NN'"
            ]
          },
          "metadata": {
            "tags": []
          },
          "execution_count": 105
        }
      ]
    },
    {
      "cell_type": "code",
      "metadata": {
        "id": "90V8JTZDfLZp",
        "colab_type": "code",
        "colab": {}
      },
      "source": [
        "y = [[tag2idx[w[2]] for w in s] for s in sentences]"
      ],
      "execution_count": 0,
      "outputs": []
    },
    {
      "cell_type": "code",
      "metadata": {
        "id": "Wckf-d3yhKRr",
        "colab_type": "code",
        "colab": {}
      },
      "source": [
        "y = pad_sequences(maxlen=max_len, sequences=y, value=tag2idx[\"PAD\"], padding='post', truncating='post')"
      ],
      "execution_count": 0,
      "outputs": []
    },
    {
      "cell_type": "code",
      "metadata": {
        "id": "2a-5KRGBhXIv",
        "colab_type": "code",
        "colab": {}
      },
      "source": [
        "from sklearn.model_selection import train_test_split"
      ],
      "execution_count": 0,
      "outputs": []
    },
    {
      "cell_type": "code",
      "metadata": {
        "id": "TnXCHAnLhexJ",
        "colab_type": "code",
        "colab": {}
      },
      "source": [
        "\n",
        "X_word_tr, X_word_te, y_tr, y_te = train_test_split(X_word, y, test_size=0.1, random_state=2018)\n",
        "X_char_tr, X_char_te, _, _ = train_test_split(X_char, y, test_size=0.1, random_state=2018)"
      ],
      "execution_count": 0,
      "outputs": []
    },
    {
      "cell_type": "code",
      "metadata": {
        "id": "etkJMo-MhnYP",
        "colab_type": "code",
        "colab": {}
      },
      "source": [
        "from keras.models import Model, Input\n",
        "from keras.layers import LSTM, Embedding, Dense, TimeDistributed, Dropout, Conv1D\n",
        "from keras.layers import Bidirectional, concatenate, SpatialDropout1D, GlobalMaxPooling1D"
      ],
      "execution_count": 0,
      "outputs": []
    },
    {
      "cell_type": "code",
      "metadata": {
        "id": "qrkKgAwKh1qv",
        "colab_type": "code",
        "colab": {}
      },
      "source": [
        "# input and embedding for words\n",
        "#n_words=35178+2,o/p dim:20\n",
        "#35180*20=703600 input dimension of embedding layer \n",
        "word_in = Input(shape=(max_len,))\n",
        "emb_word = Embedding(input_dim=n_words + 2, output_dim=20,\n",
        "                     input_length=max_len, mask_zero=True)(word_in)\n",
        "\n"
      ],
      "execution_count": 0,
      "outputs": []
    },
    {
      "cell_type": "code",
      "metadata": {
        "id": "E4nHDvyvClt5",
        "colab_type": "code",
        "outputId": "caeab92d-f701-4bf5-c2e1-a07d65e3f8f9",
        "colab": {
          "base_uri": "https://localhost:8080/",
          "height": 34
        }
      },
      "source": [
        "n_chars"
      ],
      "execution_count": 114,
      "outputs": [
        {
          "output_type": "execute_result",
          "data": {
            "text/plain": [
              "98"
            ]
          },
          "metadata": {
            "tags": []
          },
          "execution_count": 114
        }
      ]
    },
    {
      "cell_type": "code",
      "metadata": {
        "id": "hRwYOqX0C0b9",
        "colab_type": "code",
        "colab": {}
      },
      "source": [
        ""
      ],
      "execution_count": 0,
      "outputs": []
    },
    {
      "cell_type": "code",
      "metadata": {
        "id": "lvvjkieyj6s8",
        "colab_type": "code",
        "colab": {}
      },
      "source": [
        "# input and embeddings for characters\n",
        "char_in = Input(shape=(max_len, max_len_char,))\n",
        "# 100*10=1000 parameter require for tD1\n",
        "emb_char = TimeDistributed(Embedding(input_dim=n_chars + 2, output_dim=10,\n",
        "                           input_length=max_len_char, mask_zero=True))(char_in)\n"
      ],
      "execution_count": 0,
      "outputs": []
    },
    {
      "cell_type": "code",
      "metadata": {
        "id": "dcgRm2lYCj2i",
        "colab_type": "code",
        "colab": {}
      },
      "source": [
        ""
      ],
      "execution_count": 0,
      "outputs": []
    },
    {
      "cell_type": "code",
      "metadata": {
        "id": "ubs8WyMXj820",
        "colab_type": "code",
        "colab": {}
      },
      "source": [
        "# character LSTM to get word encodings by characters\n",
        "#LSTM Calculation :4*((input+1)*output+(output^2))\n",
        "#LSTM cal:4*(11*20+(20)^2)\n",
        "char_enc = TimeDistributed(LSTM(units=20, return_sequences=False,\n",
        "                                recurrent_dropout=0.5))(emb_char)\n",
        "\n"
      ],
      "execution_count": 0,
      "outputs": []
    },
    {
      "cell_type": "code",
      "metadata": {
        "id": "5DxCezB1j-uv",
        "colab_type": "code",
        "colab": {}
      },
      "source": [
        "# main LSTM\n",
        "x = concatenate([emb_word, char_enc])\n",
        "x = SpatialDropout1D(0.3)(x)\n",
        "#36400=4*((41*50)+50^2)\n",
        "main_lstm = Bidirectional(LSTM(units=50, return_sequences=True,\n",
        "                               recurrent_dropout=0.6))(x)\n"
      ],
      "execution_count": 0,
      "outputs": []
    },
    {
      "cell_type": "code",
      "metadata": {
        "id": "aMSZwO3mkAoV",
        "colab_type": "code",
        "colab": {}
      },
      "source": [
        "out = TimeDistributed(Dense(n_tags + 1, activation=\"softmax\"))(main_lstm)\n",
        "#param=1818,ip=100,op=18\n",
        "#param=ip*op+op\n",
        "\n",
        "model = Model([word_in, char_in], out)"
      ],
      "execution_count": 0,
      "outputs": []
    },
    {
      "cell_type": "code",
      "metadata": {
        "id": "dzdzU-iGkBd7",
        "colab_type": "code",
        "colab": {}
      },
      "source": [
        "model.compile(optimizer=\"adam\", loss=\"sparse_categorical_crossentropy\")"
      ],
      "execution_count": 0,
      "outputs": []
    },
    {
      "cell_type": "code",
      "metadata": {
        "id": "onNSF4D6kRa0",
        "colab_type": "code",
        "outputId": "7a5218a8-8294-4362-cb4e-afc3105a029e",
        "colab": {
          "base_uri": "https://localhost:8080/",
          "height": 454
        }
      },
      "source": [
        "model.summary()"
      ],
      "execution_count": 120,
      "outputs": [
        {
          "output_type": "stream",
          "text": [
            "__________________________________________________________________________________________________\n",
            "Layer (type)                    Output Shape         Param #     Connected to                     \n",
            "==================================================================================================\n",
            "input_4 (InputLayer)            (None, 75, 10)       0                                            \n",
            "__________________________________________________________________________________________________\n",
            "input_3 (InputLayer)            (None, 75)           0                                            \n",
            "__________________________________________________________________________________________________\n",
            "time_distributed_4 (TimeDistrib (None, 75, 10, 10)   1000        input_4[0][0]                    \n",
            "__________________________________________________________________________________________________\n",
            "embedding_3 (Embedding)         (None, 75, 20)       703600      input_3[0][0]                    \n",
            "__________________________________________________________________________________________________\n",
            "time_distributed_5 (TimeDistrib (None, 75, 20)       2480        time_distributed_4[0][0]         \n",
            "__________________________________________________________________________________________________\n",
            "concatenate_2 (Concatenate)     (None, 75, 40)       0           embedding_3[0][0]                \n",
            "                                                                 time_distributed_5[0][0]         \n",
            "__________________________________________________________________________________________________\n",
            "spatial_dropout1d_2 (SpatialDro (None, 75, 40)       0           concatenate_2[0][0]              \n",
            "__________________________________________________________________________________________________\n",
            "bidirectional_2 (Bidirectional) (None, 75, 100)      36400       spatial_dropout1d_2[0][0]        \n",
            "__________________________________________________________________________________________________\n",
            "time_distributed_6 (TimeDistrib (None, 75, 18)       1818        bidirectional_2[0][0]            \n",
            "==================================================================================================\n",
            "Total params: 745,298\n",
            "Trainable params: 745,298\n",
            "Non-trainable params: 0\n",
            "__________________________________________________________________________________________________\n"
          ],
          "name": "stdout"
        }
      ]
    },
    {
      "cell_type": "code",
      "metadata": {
        "id": "1KNHrqlccZlm",
        "colab_type": "code",
        "colab": {}
      },
      "source": [
        ""
      ],
      "execution_count": 0,
      "outputs": []
    },
    {
      "cell_type": "code",
      "metadata": {
        "id": "FFXz0Qz3kUA7",
        "colab_type": "code",
        "colab": {}
      },
      "source": [
        ""
      ],
      "execution_count": 0,
      "outputs": []
    },
    {
      "cell_type": "code",
      "metadata": {
        "id": "AtRPyGPmmZIz",
        "colab_type": "code",
        "colab": {
          "base_uri": "https://localhost:8080/",
          "height": 370
        },
        "outputId": "cc9d79ca-6186-45aa-ef56-0ddc474b4949"
      },
      "source": [
        "history = model.fit([X_word_tr,\n",
        "                     np.array(X_char_tr).reshape((len(X_char_tr), max_len, max_len_char))],\n",
        "                    np.array(y_tr).reshape(len(y_tr), max_len, 1),\n",
        "                    batch_size=32, epochs=10, validation_split=0.1, verbose=1)"
      ],
      "execution_count": 123,
      "outputs": [
        {
          "output_type": "stream",
          "text": [
            "Train on 38846 samples, validate on 4317 samples\n",
            "Epoch 1/10\n",
            "38846/38846 [==============================] - 276s 7ms/step - loss: 0.1780 - val_loss: 0.1408\n",
            "Epoch 2/10\n",
            "38846/38846 [==============================] - 274s 7ms/step - loss: 0.1251 - val_loss: 0.1170\n",
            "Epoch 3/10\n",
            "38846/38846 [==============================] - 274s 7ms/step - loss: 0.1042 - val_loss: 0.1096\n",
            "Epoch 4/10\n",
            "38846/38846 [==============================] - 274s 7ms/step - loss: 0.0928 - val_loss: 0.1037\n",
            "Epoch 5/10\n",
            "38846/38846 [==============================] - 273s 7ms/step - loss: 0.0856 - val_loss: 0.1023\n",
            "Epoch 6/10\n",
            "38846/38846 [==============================] - 274s 7ms/step - loss: 0.0798 - val_loss: 0.1018\n",
            "Epoch 7/10\n",
            "38846/38846 [==============================] - 276s 7ms/step - loss: 0.0759 - val_loss: 0.1021\n",
            "Epoch 8/10\n",
            "38846/38846 [==============================] - 276s 7ms/step - loss: 0.0721 - val_loss: 0.1007\n",
            "Epoch 9/10\n",
            "38846/38846 [==============================] - 276s 7ms/step - loss: 0.0692 - val_loss: 0.1013\n",
            "Epoch 10/10\n",
            "38846/38846 [==============================] - 277s 7ms/step - loss: 0.0664 - val_loss: 0.1022\n"
          ],
          "name": "stdout"
        }
      ]
    },
    {
      "cell_type": "code",
      "metadata": {
        "id": "9U3s6S_QcnUg",
        "colab_type": "code",
        "colab": {}
      },
      "source": [
        "y_pred = model.predict([X_word_te,\n",
        "                        np.array(X_char_te).reshape((len(X_char_te),\n",
        "                                                     max_len, max_len_char))])"
      ],
      "execution_count": 0,
      "outputs": []
    },
    {
      "cell_type": "code",
      "metadata": {
        "id": "Y3cqPiZ2hoSk",
        "colab_type": "code",
        "colab": {}
      },
      "source": [
        "#model.save(\"my_model.h5\")"
      ],
      "execution_count": 0,
      "outputs": []
    },
    {
      "cell_type": "code",
      "metadata": {
        "id": "VWdvzcg5cyZw",
        "colab_type": "code",
        "colab": {
          "base_uri": "https://localhost:8080/",
          "height": 554
        },
        "outputId": "8e93ede2-9b2c-4099-b938-54a0990e82af"
      },
      "source": [
        "\n",
        "i = 1925\n",
        "p = np.argmax(y_pred[i], axis=-1)\n",
        "print(\"{:15}||{:5}||{}\".format(\"Word\", \"True\", \"Pred\"))\n",
        "print(30 * \"=\")\n",
        "for w, t, pred in zip(X_word_te[i], y_te[i], p):\n",
        "    if w != 0:\n",
        "        print(\"{:15}: {:5} {}\".format(idx2word[w], idx2tag[t], idx2tag[pred]))"
      ],
      "execution_count": 125,
      "outputs": [
        {
          "output_type": "stream",
          "text": [
            "Word           ||True ||Pred\n",
            "==============================\n",
            "On             : O     O\n",
            "Monday         : B-tim B-tim\n",
            ",              : O     O\n",
            "British        : B-org B-gpe\n",
            "Foreign        : I-org O\n",
            "Secretary      : B-per B-per\n",
            "Jack           : I-per I-per\n",
            "Straw          : I-per I-per\n",
            "said           : O     O\n",
            "his            : O     O\n",
            "government     : O     O\n",
            "has            : O     O\n",
            "found          : O     O\n",
            "no             : O     O\n",
            "evidence       : O     O\n",
            "the            : O     O\n",
            "Bush           : B-org B-per\n",
            "administration : O     O\n",
            "requested      : O     O\n",
            "permission     : O     O\n",
            "to             : O     O\n",
            "fly            : O     O\n",
            "terror         : O     O\n",
            "suspects       : O     O\n",
            "through        : O     O\n",
            "Britain        : B-geo B-geo\n",
            "or             : O     O\n",
            "its            : O     O\n",
            "airspace       : O     O\n",
            ".              : O     O\n"
          ],
          "name": "stdout"
        }
      ]
    },
    {
      "cell_type": "code",
      "metadata": {
        "id": "lHHoj2Emc9cL",
        "colab_type": "code",
        "colab": {
          "base_uri": "https://localhost:8080/",
          "height": 50
        },
        "outputId": "afe0e58d-939f-4636-ef41-dcc0350bcd5c"
      },
      "source": [
        "!git remote add origin https://github.com/ManaliSethi/Name-Entity-recognition-Enhanced-LSTM-with-Character-Embeddings-.git\n",
        "!git push -u origin master"
      ],
      "execution_count": 126,
      "outputs": [
        {
          "output_type": "stream",
          "text": [
            "fatal: not a git repository (or any of the parent directories): .git\n",
            "fatal: not a git repository (or any of the parent directories): .git\n"
          ],
          "name": "stdout"
        }
      ]
    }
  ]
}